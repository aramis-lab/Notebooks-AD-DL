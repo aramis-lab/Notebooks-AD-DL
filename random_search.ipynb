{
 "cells": [
  {
   "cell_type": "code",
   "execution_count": 1,
   "metadata": {},
   "outputs": [],
   "source": [
    "# Uncomment this cell if running in Google Colab\n",
    "# !pip install clinicadl==0.2.0\n",
    "# !curl -k https://aramislab.paris.inria.fr/files/data/databases/tuto/dataOasis.tar.gz -o dataOasis.tar.gz\n",
    "# !tar xf dataOasis.tar.gz"
   ]
  },
  {
   "cell_type": "markdown",
   "metadata": {},
   "source": [
    "# Launch a random search"
   ]
  },
  {
   "cell_type": "markdown",
   "metadata": {},
   "source": [
    "The previous section focused on a way to debug non-automated architecture search. However, if you have enough computational power, you may want to launch an automated architecture search to save your time. This is the point of the random search method of clinicadl.\n",
    "\n",
    "<div class=\"alert alert-block alert-info\">\n",
    "<b>Non-optimal result:</b><p>\n",
    "    A random search may allow to find a better performing network, however there is no guarantee that this is the best performing network.\n",
    "</div>\n",
    "\n",
    "This notebook relies on the synthetic data generated in the previous notebook. If you did not run it, uncomment the following cell to generate the corresponding dataset."
   ]
  },
  {
   "cell_type": "code",
   "execution_count": 2,
   "metadata": {},
   "outputs": [],
   "source": [
    "# To uncomment if OasisCaps_example was never downloaded\n",
    "# !curl -k https://aramislab.paris.inria.fr/files/data/databases/tuto/OasisCaps2.tar.gz -o OasisCaps2.tar.gz\n",
    "# !tar xf OasisCaps2.tar.gz\n",
    "\n",
    "# To uncomment if the previous notebook on synthetic data generation was not run\n",
    "# !clinicadl generate trivial OasisCaps_example t1-linear data/synthetic --n_subjects 4\n",
    "# !clinica run deeplearning-prepare-data data/synthetic t1-linear image --n_procs 2\n",
    "# !clinicadl tsvtool getlabels data/synthetic/data.tsv data/synthetic/missing_mods data/synthetic/labels_list --modality synthetic -v\n",
    "# !clinicadl tsvtool split data/synthetic/labels_list --n_test 1 -v\n",
    "# !clinicadl tsvtool kfold data/synthetic/labels_list/train --n_splits 3 -v"
   ]
  },
  {
   "cell_type": "markdown",
   "metadata": {},
   "source": [
    "## Define the hyperparameter space"
   ]
  },
  {
   "cell_type": "markdown",
   "metadata": {},
   "source": [
    "A random search is performed according to hyperparameters of the network that are sampled from a pre-defined space.\n",
    "For example, you may want your random network to have maximum 3 fully-convolutional layers as you don't have enough memory to tackle more.\n",
    "\n",
    "This hyperparameter space is defined in a JSON file that must be written in your random search directory: `random_search.json`.\n",
    "\n",
    "The following function `generate_dict` generates a dictionnary that will be used to  `random_search.json` for this tutorial. To accelerate the training task we will use a single CNN on the default region of interet, the hippocampi."
   ]
  },
  {
   "cell_type": "code",
   "execution_count": 3,
   "metadata": {},
   "outputs": [],
   "source": [
    "def generate_dict(mode, caps_dir, tsv_path, preprocessing):\n",
    "    return {\n",
    "        \"caps_dir\": caps_dir,\n",
    "        \"tsv_path\": tsv_path,\n",
    "        \"diagnoses\": [\"AD\", \"CN\"],\n",
    "        \"preprocessing\": preprocessing,\n",
    "        \"mode\": mode,\n",
    "        \"network_type\": \"cnn\",\n",
    "        \n",
    "        \"epochs\": 10,\n",
    "        \"learning_rate\": [4, 6],\n",
    "        \n",
    "        \"n_convblocks\": [1, 5],               # Number of convolutional blocks\n",
    "        \"first_conv_width\": [8, 16, 32, 64],  # Number of channels in the first convolutional block\n",
    "        \"n_fcblocks\": [1, 3],                 # Number of (fully-connected + activation) layers\n",
    "        \n",
    "        \"selection_threshold\": [0.5, 1]       # Threshold at which a region is selected if its corresponding\n",
    "                                              # balanced accuracy is higher.\n",
    "    }"
   ]
  },
  {
   "cell_type": "markdown",
   "metadata": {},
   "source": [
    "In this default dictionnary we set all the arguments that are mandatory for the random search. Hyperparameters for which a space is not defined will automatically have their default value in all cases.\n",
    "\n",
    "Hyperparameters can be sampled in 4 different ways:\n",
    "- choice samples one element from a list (ex: `first_conv_width`),\n",
    "- uniform draws samples from a uniform distribution over the interval [min, max] (ex: `selection_threshold`),\n",
    "- exponent draws x from a uniform distribution over the interval [min, max] and return $10^{-x}$ (ex: `learning_rate`),\n",
    "- randint returns an integer in [min, max] (ex: `n_conv_blocks`).\n",
    "\n",
    "In the default dictionnary, the learning rate will be sampled between $10^{-4}$ and $10^{-6}$."
   ]
  },
  {
   "cell_type": "markdown",
   "metadata": {},
   "source": [
    "This dictionnary is written as a JSON file in the `launch_dir` of the random-search.\n",
    "You can define differently other hyperparameters by looking at the [documentation](https://clinicadl.readthedocs.io/)."
   ]
  },
  {
   "cell_type": "code",
   "execution_count": 4,
   "metadata": {},
   "outputs": [],
   "source": [
    "import os\n",
    "import json\n",
    "\n",
    "mode = \"roi\"\n",
    "caps_dir = \"data/synthetic\"\n",
    "tsv_path = \"data/synthetic/labels_list/train\"\n",
    "preprocessing = \"t1-linear\"\n",
    "\n",
    "os.makedirs(\"random_search\", exist_ok=True)\n",
    "default_dict = generate_dict(mode, caps_dir, tsv_path, preprocessing)\n",
    "# Add some changes here\n",
    "\n",
    "json = json.dumps(default_dict, skipkeys=True, indent=4)\n",
    "with open(os.path.join(\"random_search\", \"random_search.json\"), \"w\") as f:\n",
    "    f.write(json)"
   ]
  },
  {
   "cell_type": "markdown",
   "metadata": {},
   "source": [
    "## Train & evaluate a random network"
   ]
  },
  {
   "cell_type": "markdown",
   "metadata": {},
   "source": [
    "Based on the hyperparameter space described in `random_search.json`, you will now be able to train a random network. To do so the following command can be run:\n",
    "\n",
    "```Text\n",
    "clinicadl random-search <launch_dir> <name> --n_splits <n_splits>\n",
    "```\n",
    "where:\n",
    "\n",
    "- `launch_dir` is the folder in which is located `random_search.json` and your future output jobs.\n",
    "- `output_directory` is the name of the folder of the job launched.\n",
    "- `n_splits` is the number of splits in the cross-validation procedure.\n",
    "\n",
    "Other arguments, linked to computational resources can be specified when launching the random training."
   ]
  },
  {
   "cell_type": "code",
   "execution_count": 9,
   "metadata": {
    "scrolled": true
   },
   "outputs": [],
   "source": [
    "!clinicadl random-search \"random_search\" \"test\" --n_splits 3 --split 0"
   ]
  },
  {
   "cell_type": "markdown",
   "metadata": {},
   "source": [
    "A new folder `test` has been created in `launch_dir`. As for any network trained with ClinicaDL it is possible to evaluate its performance on a test set:"
   ]
  },
  {
   "cell_type": "code",
   "execution_count": 10,
   "metadata": {},
   "outputs": [],
   "source": [
    "# Evaluate the network performance on the 2 test images\n",
    "!clinicadl classify ./data/synthetic ./data/synthetic/labels_list/test ./random_search/test 'test' --selection_metrics \"loss\" -cpu"
   ]
  },
  {
   "cell_type": "code",
   "execution_count": 11,
   "metadata": {},
   "outputs": [
    {
     "data": {
      "text/html": [
       "<div>\n",
       "<style scoped>\n",
       "    .dataframe tbody tr th:only-of-type {\n",
       "        vertical-align: middle;\n",
       "    }\n",
       "\n",
       "    .dataframe tbody tr th {\n",
       "        vertical-align: top;\n",
       "    }\n",
       "\n",
       "    .dataframe thead th {\n",
       "        text-align: right;\n",
       "    }\n",
       "</style>\n",
       "<table border=\"1\" class=\"dataframe\">\n",
       "  <thead>\n",
       "    <tr style=\"text-align: right;\">\n",
       "      <th></th>\n",
       "      <th>participant_id</th>\n",
       "      <th>session_id</th>\n",
       "      <th>true_label</th>\n",
       "      <th>predicted_label</th>\n",
       "    </tr>\n",
       "  </thead>\n",
       "  <tbody>\n",
       "    <tr>\n",
       "      <th>0</th>\n",
       "      <td>sub-TRIV2</td>\n",
       "      <td>ses-M00</td>\n",
       "      <td>1</td>\n",
       "      <td>0</td>\n",
       "    </tr>\n",
       "    <tr>\n",
       "      <th>1</th>\n",
       "      <td>sub-TRIV7</td>\n",
       "      <td>ses-M00</td>\n",
       "      <td>0</td>\n",
       "      <td>0</td>\n",
       "    </tr>\n",
       "  </tbody>\n",
       "</table>\n",
       "</div>"
      ],
      "text/plain": [
       "  participant_id session_id  true_label  predicted_label\n",
       "0      sub-TRIV2    ses-M00           1                0\n",
       "1      sub-TRIV7    ses-M00           0                0"
      ]
     },
     "metadata": {},
     "output_type": "display_data"
    },
    {
     "data": {
      "text/html": [
       "<div>\n",
       "<style scoped>\n",
       "    .dataframe tbody tr th:only-of-type {\n",
       "        vertical-align: middle;\n",
       "    }\n",
       "\n",
       "    .dataframe tbody tr th {\n",
       "        vertical-align: top;\n",
       "    }\n",
       "\n",
       "    .dataframe thead th {\n",
       "        text-align: right;\n",
       "    }\n",
       "</style>\n",
       "<table border=\"1\" class=\"dataframe\">\n",
       "  <thead>\n",
       "    <tr style=\"text-align: right;\">\n",
       "      <th></th>\n",
       "      <th>accuracy</th>\n",
       "      <th>balanced_accuracy</th>\n",
       "      <th>sensitivity</th>\n",
       "      <th>specificity</th>\n",
       "      <th>ppv</th>\n",
       "      <th>npv</th>\n",
       "    </tr>\n",
       "  </thead>\n",
       "  <tbody>\n",
       "    <tr>\n",
       "      <th>0</th>\n",
       "      <td>0.5</td>\n",
       "      <td>0.5</td>\n",
       "      <td>0.0</td>\n",
       "      <td>1.0</td>\n",
       "      <td>0.0</td>\n",
       "      <td>0.5</td>\n",
       "    </tr>\n",
       "  </tbody>\n",
       "</table>\n",
       "</div>"
      ],
      "text/plain": [
       "   accuracy  balanced_accuracy  sensitivity  specificity  ppv  npv\n",
       "0       0.5                0.5          0.0          1.0  0.0  0.5"
      ]
     },
     "metadata": {},
     "output_type": "display_data"
    }
   ],
   "source": [
    "import pandas as pd\n",
    "\n",
    "fold = 0\n",
    "\n",
    "predictions = pd.read_csv(\"./random_search/test/fold-%i/cnn_classification/best_loss/test_image_level_prediction.tsv\" % fold, sep=\"\\t\")\n",
    "display(predictions)\n",
    "\n",
    "\n",
    "metrics = pd.read_csv(\"./random_search/test/fold-%i/cnn_classification/best_loss/test_image_level_metrics.tsv\" % fold, sep=\"\\t\")\n",
    "display(metrics)"
   ]
  },
  {
   "cell_type": "markdown",
   "metadata": {},
   "source": [
    "## Analysis of the random network"
   ]
  },
  {
   "cell_type": "markdown",
   "metadata": {},
   "source": [
    "The architecture of the network can be retrieved from the `commandline.json` file in the folder corresponding to a random job.\n",
    "\n",
    "The architecture can be fully retrieved with 4 keys:\n",
    "- `convolutions` is a dictionnary describing each convolutional block,\n",
    "- `network_normalization` is the type of normalization layer used in covolutional blocks,\n",
    "- `n_fcblocks` is the number of fully-connected layers,\n",
    "- `dropout` is the dropout rate applied at the dropout layer.\n",
    "\n",
    "One convolutional block is described by the following values:\n",
    "- `in_channels` is the number of channels of the input (if set to null corresponds to the number of channels of the input data),\n",
    "- `out_channels` is the number of channels in the output of the convolutional block. It corresponds to 2 * `in_channels` except for the first channel chosen from `first_conv_width`, and if it becomes greater than `channels_limit`.\n",
    "- `n_conv` corresponds to the number of convolutions in the convolutional block,\n",
    "- `d_reduction` is the dimension reduction applied in the block.\n",
    "\n",
    "### Convolutional block - example 1\n",
    "\n",
    "Convolutional block dictionnary:\n",
    "```\n",
    "{\n",
    "    \"in_channels\": 16,\n",
    "    \"out_channels\": 32,\n",
    "    \"n_conv\": 2,\n",
    "    \"d_reduction\": \"MaxPooling\"\n",
    "}\n",
    "```\n",
    "(`network_normalization` is set to `InstanceNorm`)\n",
    "\n",
    "Corresponding architecture drawing:\n",
    "<br>\n",
    "<img src=\"./images/convBlock1.png\" width=\"700\">\n",
    "<br>\n",
    "\n",
    "\n",
    "### Convolutional block - example 1\n",
    "\n",
    "Convolutional block dictionnary:\n",
    "```\n",
    "{\n",
    "    \"in_channels\": 32,\n",
    "    \"out_channels\": 64,\n",
    "    \"n_conv\": 3,\n",
    "    \"d_reduction\": \"stride\"\n",
    "}\n",
    "```\n",
    "(`network_normalization` is set to `BatchNorm`)\n",
    "\n",
    "Corresponding architecture drawing:\n",
    "<br>\n",
    "<img src=\"./images/convBlock2.png\" width=\"700\">\n",
    "<br>\n",
    "\n",
    "A simple way to better visualize your random architecture is to construct it using `create_model` function from ClinicaDL. This function needs the list of options of the model stored in the JSON file as well as the size of the input. "
   ]
  },
  {
   "cell_type": "code",
   "execution_count": 6,
   "metadata": {},
   "outputs": [
    {
     "name": "stdout",
     "output_type": "stream",
     "text": [
      "----------------------------------------------------------------\n",
      "        Layer (type)               Output Shape         Param #\n",
      "================================================================\n",
      "            Conv3d-1       [-1, 5, 84, 104, 89]             140\n",
      "       BatchNorm3d-2       [-1, 5, 84, 104, 89]              10\n",
      "         LeakyReLU-3       [-1, 5, 84, 104, 89]               0\n",
      "     ConstantPad3d-4       [-1, 5, 84, 104, 90]               0\n",
      "         MaxPool3d-5        [-1, 5, 42, 52, 45]               0\n",
      "      PadMaxPool3d-6        [-1, 5, 42, 52, 45]               0\n",
      "            Conv3d-7       [-1, 10, 42, 52, 45]           1,360\n",
      "       BatchNorm3d-8       [-1, 10, 42, 52, 45]              20\n",
      "         LeakyReLU-9       [-1, 10, 42, 52, 45]               0\n",
      "    ConstantPad3d-10       [-1, 10, 42, 52, 46]               0\n",
      "        MaxPool3d-11       [-1, 10, 21, 26, 23]               0\n",
      "     PadMaxPool3d-12       [-1, 10, 21, 26, 23]               0\n",
      "           Conv3d-13       [-1, 10, 21, 26, 23]           2,710\n",
      "      BatchNorm3d-14       [-1, 10, 21, 26, 23]              20\n",
      "        LeakyReLU-15       [-1, 10, 21, 26, 23]               0\n",
      "           Conv3d-16       [-1, 10, 21, 26, 23]           2,710\n",
      "      BatchNorm3d-17       [-1, 10, 21, 26, 23]              20\n",
      "        LeakyReLU-18       [-1, 10, 21, 26, 23]               0\n",
      "           Conv3d-19       [-1, 20, 21, 26, 23]           5,420\n",
      "      BatchNorm3d-20       [-1, 20, 21, 26, 23]              40\n",
      "        LeakyReLU-21       [-1, 20, 21, 26, 23]               0\n",
      "    ConstantPad3d-22       [-1, 20, 22, 26, 24]               0\n",
      "        MaxPool3d-23       [-1, 20, 11, 13, 12]               0\n",
      "     PadMaxPool3d-24       [-1, 20, 11, 13, 12]               0\n",
      "           Conv3d-25       [-1, 40, 11, 13, 12]          21,640\n",
      "      BatchNorm3d-26       [-1, 40, 11, 13, 12]              80\n",
      "        LeakyReLU-27       [-1, 40, 11, 13, 12]               0\n",
      "    ConstantPad3d-28       [-1, 40, 12, 14, 12]               0\n",
      "        MaxPool3d-29          [-1, 40, 6, 7, 6]               0\n",
      "     PadMaxPool3d-30          [-1, 40, 6, 7, 6]               0\n",
      "           Conv3d-31          [-1, 80, 6, 7, 6]          86,480\n",
      "      BatchNorm3d-32          [-1, 80, 6, 7, 6]             160\n",
      "        LeakyReLU-33          [-1, 80, 6, 7, 6]               0\n",
      "    ConstantPad3d-34          [-1, 80, 6, 8, 6]               0\n",
      "        MaxPool3d-35          [-1, 80, 3, 4, 3]               0\n",
      "     PadMaxPool3d-36          [-1, 80, 3, 4, 3]               0\n",
      "           Conv3d-37         [-1, 160, 3, 4, 3]         345,760\n",
      "      BatchNorm3d-38         [-1, 160, 3, 4, 3]             320\n",
      "        LeakyReLU-39         [-1, 160, 3, 4, 3]               0\n",
      "    ConstantPad3d-40         [-1, 160, 4, 4, 4]               0\n",
      "        MaxPool3d-41         [-1, 160, 2, 2, 2]               0\n",
      "     PadMaxPool3d-42         [-1, 160, 2, 2, 2]               0\n",
      "          Flatten-43                 [-1, 1280]               0\n",
      "          Dropout-44                 [-1, 1280]               0\n",
      "           Linear-45                    [-1, 2]           2,562\n",
      "================================================================\n",
      "Total params: 469,452\n",
      "Trainable params: 469,452\n",
      "Non-trainable params: 0\n",
      "----------------------------------------------------------------\n",
      "Input size (MB): 2.97\n",
      "Forward/backward pass size (MB): 175.93\n",
      "Params size (MB): 1.79\n",
      "Estimated Total Size (MB): 180.69\n",
      "----------------------------------------------------------------\n"
     ]
    }
   ],
   "source": [
    "from clinicadl.tools.deep_learning.iotools import read_json\n",
    "from clinicadl.tools.deep_learning.models import create_model\n",
    "from clinicadl.tools.deep_learning.data import return_dataset, get_transforms\n",
    "\n",
    "try:\n",
    "    from torchsummary import summary\n",
    "except ModuleNotFoundError:\n",
    "    !pip install torchsummary\n",
    "    from torchsummary import summary\n",
    "import argparse\n",
    "import warnings\n",
    "\n",
    "warnings.filterwarnings('ignore')\n",
    "\n",
    "# Read model options\n",
    "options = argparse.Namespace()\n",
    "model_options = read_json(options, json_path=\"random_search/test/commandline.json\")\n",
    "model_options.gpu = True\n",
    "\n",
    "# Find data input size\n",
    "_, transformations = get_transforms(mode, not model_options.unnormalize)\n",
    "dataset = return_dataset(mode, caps_dir, os.path.join(tsv_path, \"AD.tsv\"),\n",
    "                         preprocessing, transformations, model_options)\n",
    "input_size = dataset.size\n",
    "\n",
    "# Create model and print summary\n",
    "model = create_model(model_options, input_size)\n",
    "summary(model, input_size)"
   ]
  },
  {
   "cell_type": "code",
   "execution_count": null,
   "metadata": {},
   "outputs": [],
   "source": []
  }
 ],
 "metadata": {
  "kernelspec": {
   "display_name": "Python 3",
   "language": "python",
   "name": "python3"
  },
  "language_info": {
   "codemirror_mode": {
    "name": "ipython",
    "version": 3
   },
   "file_extension": ".py",
   "mimetype": "text/x-python",
   "name": "python",
   "nbconvert_exporter": "python",
   "pygments_lexer": "ipython3",
   "version": "3.6.10"
  }
 },
 "nbformat": 4,
 "nbformat_minor": 4
}
