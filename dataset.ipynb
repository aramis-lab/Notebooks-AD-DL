{
 "cells": [
  {
   "cell_type": "markdown",
   "metadata": {},
   "source": [
    "# Alzheimer's disease context\n",
    "\n",
    "## Research datasets for Alzheimer's disease study"
   ]
  },
  {
   "cell_type": "markdown",
   "metadata": {},
   "source": [
    "The first thing that we need, to start working on MRI classification, is a dataset.\n",
    "There are several datasets available outdoors. "
   ]
  },
  {
   "cell_type": "markdown",
   "metadata": {},
   "source": [
    "## Labels of interest in the context of dementia\n",
    "\n",
    "During the evolution of the disease, the diagnostic status of the participants may progress from cognitively normal, then to prodromal, and finally to dementia. This diagnostic status is established by clinicians based on cognitive scores such as the Mini-Mental State Evaluation (MMSE) and the Clinical Dementia Rating (CDR). Though the existence of standardized protocols, these scores can be highly variable based on the examiner and the physical/psychological condition of the patient during the test.\n",
    "\n",
    "> The goal of ADNI neuropsychological testing is to use standardized procedures to objectively and reliably assess a subject’s cognitive abilities.  However, **neuropsychological testing is not a mechanical process**. The examiner encounters a wide range of emotional and physical problems that can interfere with testing, and the skill and judgment of the examiner often affect the subject’s willingness to be tested and the effort he/she invests.\n",
    "\n",
    "<i><div style=\"text-align: right\"> excerpt from <a href=\"http://adni.loni.usc.edu/wp-content/uploads/2010/09/ADNI_GeneralProceduresManual.pdf\">ADNI general procedure manual</a>, p76 </div></i>\n",
    "\n",
    "Because of this variability on neuropsychological tests, the diagnostic status is often not directly used but labels are designed based on their stability over time:\n",
    "- **CN** (cognitively normal): correspond to sessions of subjects who were diagnosed as _cognitively normal_ during all their follow-up;\n",
    "- **AD** (Alzheimer's Disease): correspond to sessions of subjects who were diagnosed as _demented_ during all their follow-up;\n",
    "- **MCI** (Mild Cognitive Impairment): correspond to sessions of subjects who were diagnosed as _prodromal_ at baseline, who did not encounter multiple reversions and conversions and who did not convert back to cognitively normal status;\n",
    "- **pMCI** (progressive MCI): correspond to sessions of subjects who were diagnosed as _prodromal_ at baseline, and _progressed to dementia_ during the <font color='blue'> 36 months (time horizon)</font> following the current visit;\n",
    "- **sMCI** (stable MCI): correspond to sessions of subjects who were diagnosed as _prodromal_ at baseline, _remained stable_ during the <font color='blue'> 36 months (time horizon)</font> following the current visit and _never progressed to dementia_.\n",
    "\n",
    "<div class=\"alert alert-block alert-info\">\n",
    "<b>Time horizon:</b><p>\n",
    "    In this notebook, we set the time horizon to 36 months.\n",
    "    The time horizon allows to study the MCI patients stability and to sort them between sMCI and pMCI classes.</p>\n",
    "    <img src=\"./images/MCI_stability.png\">\n",
    "</div>"
   ]
  },
  {
   "cell_type": "markdown",
   "metadata": {},
   "source": [
    "## A word on OASIS dataset\n",
    "\n",
    "For this tutorial we have chosen to use [OASIS-1](https://www.oasis-brains.org/) because it is freely available, however it is quite different from other commonly used datasets ADNI and AIBL.\n",
    "\n",
    "In OASIS-1, two diagnostic status only are given:\n",
    "- CN (corresponding to a null CDR),\n",
    "- AD (corresponding to a non-null CDR).\n",
    "\n",
    "This definition of the diagnostic status does not correspond to the one of ADNI in which it is based on other neuropsychological scores corrected by the level of education of participants. Moreover, in ADNI a CDR of 0.5 leads to the prodromal status whereas in OASIS it corresponds to \"probable AD\" as for all patients with a non-null CDR.\n",
    "\n",
    "Finally, be aware that the OASIS-1 dataset is cross-sectional and not longitudinal, meaning that there is only one asssessment per participant. Then the stability of the diagnostic status only relies on one session (which is not enough)."
   ]
  }
 ],
 "metadata": {
  "kernelspec": {
   "display_name": "Python 3",
   "language": "python",
   "name": "python3"
  },
  "language_info": {
   "codemirror_mode": {
    "name": "ipython",
    "version": 3
   },
   "file_extension": ".py",
   "mimetype": "text/x-python",
   "name": "python",
   "nbconvert_exporter": "python",
   "pygments_lexer": "ipython3",
   "version": "3.6.10"
  }
 },
 "nbformat": 4,
 "nbformat_minor": 4
}
