{
 "cells": [
  {
   "cell_type": "markdown",
   "metadata": {},
   "source": [
    "# The Datasets\n",
    "\n",
    "## Getting the datasets"
   ]
  },
  {
   "cell_type": "markdown",
   "metadata": {},
   "source": [
    "The first thing that we need, to start working on MRI classification, is a dataset.\n",
    "There are several datasets available outdoors. For this tutorial we have choosen [OASIS](https://www.oasis-brains.org/) because it is freely available for the scientific community.\n",
    "\n",
    "Instructions to download OASIS can be found on their [web site](https://www.oasis-brains.org/). "
   ]
  },
  {
   "cell_type": "markdown",
   "metadata": {},
   "source": [
    "## Transform your dataset into BIDS using Clinica"
   ]
  },
  {
   "cell_type": "markdown",
   "metadata": {},
   "source": [
    "\n",
    "Before any processing, the OASIS dataset must be converted into a format friendly to neuroimaging tool. This format is called [BIDS](https://bids.neuroimaging.io/). A BIDS complient dataset consists in a specific organisation of the results obtained in neuroimaging experiment.\n",
    "\n",
    "[Clinica provides tools](http://www.clinica.run/doc/Converters/OASIS2BIDS/) to generate automatically this organisation.\n",
    "\n",
    "A command line instruction is enough to get the data in BIDS format:\n",
    "\n",
    "```bash\n",
    "\n",
    "clinica convert oasis-to-bids <dataset_directory> <clinical_data_directory> <bids_directory>\n",
    "```"
   ]
  },
  {
   "cell_type": "code",
   "execution_count": null,
   "metadata": {},
   "outputs": [],
   "source": []
  }
 ],
 "metadata": {
  "kernelspec": {
   "display_name": "Python 3",
   "language": "python",
   "name": "python3"
  },
  "language_info": {
   "codemirror_mode": {
    "name": "ipython",
    "version": 3
   },
   "file_extension": ".py",
   "mimetype": "text/x-python",
   "name": "python",
   "nbconvert_exporter": "python",
   "pygments_lexer": "ipython3",
   "version": "3.6.10"
  }
 },
 "nbformat": 4,
 "nbformat_minor": 4
}
