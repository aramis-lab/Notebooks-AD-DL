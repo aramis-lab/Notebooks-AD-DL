{
 "cells": [
  {
   "cell_type": "markdown",
   "metadata": {},
   "source": [
    "# Alzheimer's disease context\n",
    "\n",
    "## Research datasets for Alzheimer's disease study"
   ]
  },
  {
   "cell_type": "markdown",
   "metadata": {},
   "source": [
    "The first thing that we need, to start working on MRI classification, is a dataset.\n",
    "There are several datasets available outdoors. "
   ]
  },
  {
   "cell_type": "markdown",
   "metadata": {},
   "source": [
    "## Labels of interest in the context of dementia\n",
    "\n",
    "Five labels can be extracted depending on the diagnostic status of the participants during the follow-up:\n",
    "- **CN** (cognitively normal): sessions of subjects who were diagnosed as _cognitively normal_ during all their follow-up;\n",
    "- **AD** (Alzheimer's Disease): sessions of subjects who were diagnosed as _demented_ during all their follow-up;\n",
    "- **MCI** (Mild Cognitive Impairment): sessions of subjects who were diagnosed as _prodromal_ at baseline, who did not encounter multiple reversions and conversions and who did not convert back to cognitively normal status;\n",
    "- **pMCI** (progressive MCI): sessions of subjects who were diagnosed as _prodromal_ at baseline, and _progressed to dementia_ during the <font color='blue'> 36 months (time horizon)</font> following the current visit;\n",
    "- **sMCI** (stable MCI): sessions of subjects who were diagnosed as _prodromal_ at baseline, _remained stable_ during the <font color='blue'> 36 months (time horizon)</font> following the current visit and _never progressed to dementia_.\n",
    "\n",
    "<div class=\"alert alert-block alert-info\">\n",
    "<b>Time horizon:</b><p>\n",
    "    In this notebook, we set the time horizon to 36 months.\n",
    "    The time horizon allows to study the MCI patients stability and to sort them between sMCI and pMCI classes.</p>\n",
    "    <img src=\"./images/MCI_stability.png\">\n",
    "</div>"
   ]
  },
  {
   "cell_type": "markdown",
   "metadata": {},
   "source": [
    "For this tutorial we have chosen [OASIS](https://www.oasis-brains.org/) because it is freely available for the scientific community.\n",
    "\n",
    "Instructions to download OASIS can be found on their [web site](https://www.oasis-brains.org/)."
   ]
  }
 ],
 "metadata": {
  "kernelspec": {
   "display_name": "Python 3",
   "language": "python",
   "name": "python3"
  },
  "language_info": {
   "codemirror_mode": {
    "name": "ipython",
    "version": 3
   },
   "file_extension": ".py",
   "mimetype": "text/x-python",
   "name": "python",
   "nbconvert_exporter": "python",
   "pygments_lexer": "ipython3",
   "version": "3.6.10"
  }
 },
 "nbformat": 4,
 "nbformat_minor": 4
}
