{
 "cells": [
  {
   "cell_type": "markdown",
   "metadata": {},
   "source": [
    "# Extract labels from BIDS metadata\n",
    "\n",
    "This notebook explains how to extract labels from BIDS.\n",
    "\n",
    "## Label definition\n",
    "\n",
    "Five labels can be extracted depending on the diagnostic status of the participants during the follow-up:\n",
    "- **CN**: sessions of subjects who were diagnosed as _cognitively normal_ during all their follow-up;\n",
    "- **AD**: sessions of subjects who were diagnosed as _demented_ during all their follow-up;\n",
    "- **MCI**: sessions of subjects who were diagnosed as _prodromal_ at baseline, who did not encounter multiple reversions and conversions and who did not convert back to cognitively normal status;\n",
    "- **pMCI**: sessions of subjects who were diagnosed as _prodromal_ at baseline, and _progressed to dementia_ during the <font color='red'> 36 months (time horizon)</font> following the current visit;\n",
    "- **sMCI**: sessions of subjects who were diagnosed as _prodromal_ at baseline, _remained stable_ during the <font color='red'> 36 months (time horizon)</font> following the current visit and _never progressed to dementia_.\n",
    "\n",
    "<div class=\"alert alert-block alert-info\">\n",
    "<b>Time horizon:</b><p>\n",
    "    In this notebook, we set the time horizon to 36 months.\n",
    "    The time horizon allows to study the MCI patients stability and to sort them between sMCI and pMCI classes.</p>\n",
    "    <img src=\"https://github.com/aramis-lab/Notebooks-AD-DL/blob/master/images/MCI_stability.png\">\n",
    "</div>\n",
    "\n"
   ]
  },
  {
   "cell_type": "markdown",
   "metadata": {},
   "source": [
    "## Merge information with `clinica iotools`\n",
    "\n",
    "BIDS information is dispatched between different tsv depending if it concerns a subject, a session or a scan.\n",
    "To gather all data included in tsv files of the BIDS, use the command:"
   ]
  },
  {
   "cell_type": "code",
   "execution_count": null,
   "metadata": {},
   "outputs": [],
   "source": [
    "!clinica iotools merge-tsv <bids_directory> data/test_BIDS.tsv"
   ]
  },
  {
   "cell_type": "markdown",
   "metadata": {},
   "source": [
    "Another command is also needed to identify which modalities are present for each subject. This will allow to restrict our sessions list to sessions comprising T1-MRI.\n",
    "\n",
    "This is the aim of the following command: "
   ]
  },
  {
   "cell_type": "code",
   "execution_count": null,
   "metadata": {},
   "outputs": [],
   "source": [
    "!clinica iotools check-missing-modalities <bids_directory> data/test_missing_mods"
   ]
  },
  {
   "cell_type": "markdown",
   "metadata": {},
   "source": [
    "## Extract labels with `clinicadl tsvtool` on OASIS\n",
    "\n",
    "In this section we will now use the OASIS dataset on which `clinica iotools merge-tsv` and `clinica iotools check-missing-modalities` was already performed.\n",
    "\n",
    "The outputs of the corresponding pipelines can be found respectively at `data/OASIS_BIDS.tsv` and `data/OASIS_missing_mods`."
   ]
  },
  {
   "cell_type": "code",
   "execution_count": null,
   "metadata": {},
   "outputs": [],
   "source": [
    "ls data"
   ]
  },
  {
   "cell_type": "markdown",
   "metadata": {},
   "source": [
    "### Restriction on OASIS dataset\n",
    "\n",
    "In OASIS, the age distribution of CN participants is different from the one of AD participants. This is an issue as the classifier may learn a difference between age classes instead of learning atrophy patterns caused by Alzheimer's disease on such dataset.\n",
    "\n",
    "<font color='green'>Should we add here a table or a piece of code to show the difference between the classes ? </font>\n",
    "\n",
    "To avoid this bias, CN participants younger than the youngest AD patient were removed. This restriction can be performed with the following commandline:"
   ]
  },
  {
   "cell_type": "code",
   "execution_count": null,
   "metadata": {},
   "outputs": [],
   "source": [
    "!clinicadl tsvtool restrict OASIS data/OASIS_BIDS.tsv data/OASIS_restricted_BIDS.tsv"
   ]
  },
  {
   "cell_type": "code",
   "execution_count": null,
   "metadata": {},
   "outputs": [],
   "source": [
    "ls data"
   ]
  },
  {
   "cell_type": "markdown",
   "metadata": {},
   "source": [
    "### Get the labels\n",
    "\n",
    "The OASIS dataset only includes **AD** and **CN** labels"
   ]
  }
 ],
 "metadata": {
  "kernelspec": {
   "display_name": "Python 3",
   "language": "python",
   "name": "python3"
  },
  "language_info": {
   "codemirror_mode": {
    "name": "ipython",
    "version": 3
   },
   "file_extension": ".py",
   "mimetype": "text/x-python",
   "name": "python",
   "nbconvert_exporter": "python",
   "pygments_lexer": "ipython3",
   "version": "3.6.10"
  }
 },
 "nbformat": 4,
 "nbformat_minor": 4
}
