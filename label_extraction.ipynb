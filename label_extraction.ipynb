{
 "cells": [
  {
   "cell_type": "markdown",
   "metadata": {},
   "source": [
    "# Extract labels from BIDS metadata\n",
    "\n",
    "This notebook explains how to extract labels from BIDS.\n",
    "\n",
    "## Label definition\n",
    "\n",
    "Five labels can be extracted depending on the diagnostic status of the participants during the follow-up:\n",
    "- **CN**: sessions of subjects who were diagnosed as CN at baseline and stayed stable during the follow-up;\n",
    "- **AD**: sessions of subjects who were diagnosed as AD at baseline and stayed stable during the follow-up;\n",
    "- **MCI**: sessions of subjects who were diagnosed as MCI, EMCI or LMCI at baseline, who did not encounter multiple reversions and conversions and who did not convert back to CN;\n",
    "- **pMCI**: sessions of subjects who were diagnosed as MCI, EMCI or LMCI at baseline, and progressed to AD during the <font color='red'> 36 months (time horizon)</font> following the current visit;\n",
    "- **sMCI**: sessions of subjects who were diagnosed as MCI, EMCI or LMCI at baseline, and did not progress to AD during the <font color='red'> 36 months (time horizon)</font> following the current visit.\n",
    "\n",
    "<details>\n",
    "  <summary>More on time horizon</summary>\n",
    "  \n",
    "In this notebook, we set the time horizon to 36 months. This time horizon allows us to study the MCI patients stability and to sort them between sMCI and pMCI classes.\n",
    "\n",
    "Add illustration\n",
    "    \n",
    "</details>\n",
    "\n",
    "\n",
    "<div class=\"alert alert-block alert-warning\">\n",
    "<b>Note:</b> pMCI and sMCI groups are subsets of the MCI group.\n",
    "</div>"
   ]
  },
  {
   "cell_type": "markdown",
   "metadata": {},
   "source": [
    "## Merge information with `clinica iotools`\n",
    "\n",
    "BIDS information is dispatched between different tsv depending if it concerns a subject, a session or a scan.\n",
    "To gather all data in one tsv file, use the command:\n",
    "\n",
    "```clinica iotools merge-tsv <bids_directory> <output_tsv>```\n"
   ]
  },
  {
   "cell_type": "code",
   "execution_count": null,
   "metadata": {},
   "outputs": [],
   "source": []
  }
 ],
 "metadata": {
  "kernelspec": {
   "display_name": "Python 3",
   "language": "python",
   "name": "python3"
  },
  "language_info": {
   "codemirror_mode": {
    "name": "ipython",
    "version": 3
   },
   "file_extension": ".py",
   "mimetype": "text/x-python",
   "name": "python",
   "nbconvert_exporter": "python",
   "pygments_lexer": "ipython3",
   "version": "3.6.10"
  }
 },
 "nbformat": 4,
 "nbformat_minor": 4
}
