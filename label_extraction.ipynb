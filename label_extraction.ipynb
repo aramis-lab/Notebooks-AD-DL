{
 "cells": [
  {
   "cell_type": "markdown",
   "metadata": {},
   "source": [
    "# Definition of the training, validation and test cohorts.\n",
    "\n",
    "This notebook is an introduction to the labels that are commonly used in Alzheimer's disease study, and to the tools that can be used to split samples between training, validation and test cohorts.\n",
    "\n",
    "Two sections present these tools that are provided by `clinica` and `clinicadl`:\n",
    "- How to extract the samples corresponding to the labels of interest from a BIDS hierarchy,\n",
    "- How to split these samples between training, validation and test sets.\n",
    "\n",
    "## Labels of interest in the context of dementia\n",
    "\n",
    "Five labels can be extracted depending on the diagnostic status of the participants during the follow-up:\n",
    "- **CN** (cognitively normal): sessions of subjects who were diagnosed as _cognitively normal_ during all their follow-up;\n",
    "- **AD** (Alzheimer's Disease): sessions of subjects who were diagnosed as _demented_ during all their follow-up;\n",
    "- **MCI** (Mild Cognitive Impairment): sessions of subjects who were diagnosed as _prodromal_ at baseline, who did not encounter multiple reversions and conversions and who did not convert back to cognitively normal status;\n",
    "- **pMCI** (progressive MCI): sessions of subjects who were diagnosed as _prodromal_ at baseline, and _progressed to dementia_ during the <font color='blue'> 36 months (time horizon)</font> following the current visit;\n",
    "- **sMCI** (stable MCI): sessions of subjects who were diagnosed as _prodromal_ at baseline, _remained stable_ during the <font color='blue'> 36 months (time horizon)</font> following the current visit and _never progressed to dementia_.\n",
    "\n",
    "<div class=\"alert alert-block alert-info\">\n",
    "<b>Time horizon:</b><p>\n",
    "    In this notebook, we set the time horizon to 36 months.\n",
    "    The time horizon allows to study the MCI patients stability and to sort them between sMCI and pMCI classes.</p>\n",
    "    <img src=\"./images/MCI_stability.png\">\n",
    "</div>\n",
    "\n",
    "In OASIS, there are no MCI patients, thus this notebook will be only focused on AD and CN labels management."
   ]
  },
  {
   "cell_type": "markdown",
   "metadata": {},
   "source": [
    "## Merge information with `clinica iotools`\n",
    "\n",
    "In a BIDS hierarchy, demographic, clinical and imaging metadata are stored in tsv files located at different levels of the hierarchy depending on whether they are specific to a subject (e.g. gender), a session (e.g. diagnosis) or a scan (e.g. acquisitions parameters).\n",
    "To gather all data included in tsv files of the BIDS, use the command:"
   ]
  },
  {
   "cell_type": "code",
   "execution_count": null,
   "metadata": {},
   "outputs": [],
   "source": [
    "!clinica iotools merge-tsv <bids_directory> data/test_BIDS.tsv"
   ]
  },
  {
   "cell_type": "markdown",
   "metadata": {},
   "source": [
    "Another command is also needed to identify which modalities are present for each subject. This will allow to restrict our sessions list to sessions comprising T1-MRI.\n",
    "\n",
    "This is the aim of the following command: "
   ]
  },
  {
   "cell_type": "code",
   "execution_count": null,
   "metadata": {},
   "outputs": [],
   "source": [
    "!clinica iotools check-missing-modalities <bids_directory> data/test_missing_mods"
   ]
  },
  {
   "cell_type": "markdown",
   "metadata": {},
   "source": [
    "The output of this command, `data/test_missing_mods`, is a folder in which a series of tsv files is written (one file per session label containing one row per subject and one column per modality)."
   ]
  },
  {
   "cell_type": "markdown",
   "metadata": {},
   "source": [
    "## Get labels with `clinicadl tsvtool` on OASIS\n",
    "\n",
    "In this section we will now use the OASIS dataset on which `clinica iotools merge-tsv` and `clinica iotools check-missing-modalities` was already performed.\n",
    "\n",
    "The outputs of the corresponding pipelines can be found respectively at `data/OASIS_BIDS.tsv` and `data/OASIS_missing_mods`."
   ]
  },
  {
   "cell_type": "code",
   "execution_count": null,
   "metadata": {},
   "outputs": [],
   "source": [
    "ls data"
   ]
  },
  {
   "cell_type": "markdown",
   "metadata": {},
   "source": [
    "### Restrictions on OASIS dataset\n",
    "\n",
    "In OASIS, CN participants are younger than AD participants. This is an issue as aging also causes brain atrophy. Thus the classifier may mix the signal due to healthy brain aging and Alzheimer's disease on such dataset, and that could lead to an over-estimation of the performance.\n",
    "\n",
    "|      | subjects   | age                      | sex         | MMSE                | CDR                        |\n",
    "|------|------------|--------------------------|-------------|---------------------|----------------------------|\n",
    "|  AD  | 100        | 76.8 ± 7.1 [62.0, 96.0]  | 59F / 41M   | 24.3 ± 4.1 [14, 30] | 0: 0, 0.5: 70, 1: 28, 2: 2 |\n",
    "|  CN  | 316        | <font color=\"red\">45.1 ± 23.9 [18.0, 94.0] </font>| 197F / 119M | 29.6 ± 0.9 [25, 30] | 0: 316                     |\n",
    "\n",
    "To avoid this bias, CN participants younger than the youngest AD patient were removed. This restriction can be performed with the following commandline:"
   ]
  },
  {
   "cell_type": "code",
   "execution_count": null,
   "metadata": {},
   "outputs": [],
   "source": [
    "!clinicadl tsvtool restrict OASIS data/OASIS_BIDS.tsv data/OASIS_restricted_BIDS.tsv"
   ]
  },
  {
   "cell_type": "code",
   "execution_count": null,
   "metadata": {},
   "outputs": [],
   "source": [
    "ls data"
   ]
  },
  {
   "cell_type": "markdown",
   "metadata": {},
   "source": [
    "Some other sessions were also excluded because the preprocessing operations failed. The list of the images that were kept after the preprocessing is stored at `data/OASIS_qc_output.tsv`."
   ]
  },
  {
   "cell_type": "markdown",
   "metadata": {},
   "source": [
    "### Get the labels\n",
    "\n",
    "The OASIS dataset only includes **AD** and **CN** labels. They can be extracted in a new folder `labels_lists` from the restricted dataset with the following commandline:"
   ]
  },
  {
   "cell_type": "code",
   "execution_count": null,
   "metadata": {},
   "outputs": [],
   "source": [
    "!clinicadl tsvtool getlabels data/OASIS_restricted_BIDS.tsv data/OASIS_missing_mods data/labels_lists --restriction_path data/OASIS_after_qc.tsv"
   ]
  },
  {
   "cell_type": "code",
   "execution_count": null,
   "metadata": {},
   "outputs": [],
   "source": [
    "ls data/labels_lists"
   ]
  },
  {
   "cell_type": "markdown",
   "metadata": {},
   "source": [
    "For each diagnosis label, one separate file has been created with all the sessions that can be included in the classification task."
   ]
  },
  {
   "cell_type": "markdown",
   "metadata": {},
   "source": [
    "### Demographic analysis\n",
    "\n",
    "The age bias in OASIS is well known and this is why the youngest CN participants were excluded in a previous section. However, other biases may exist, in particular after the preprocessing step which removed sessions from the dataset. Thus it is crucial to check before going further if there are other biases in the dataset.\n",
    "\n",
    "The following command will extract statistical values on the populations for each diagnosis label. Based on those it is possible to check that the dataset is suitable for the classification task."
   ]
  },
  {
   "cell_type": "code",
   "execution_count": null,
   "metadata": {},
   "outputs": [],
   "source": [
    "!clinicadl tsvtool analysis data/OASIS_BIDS.tsv data/labels_lists data/OASIS_analysis.tsv"
   ]
  },
  {
   "cell_type": "code",
   "execution_count": null,
   "metadata": {},
   "outputs": [],
   "source": [
    "def display_table(table_path):\n",
    "    import pandas as pd\n",
    "\n",
    "    OASIS_analysis_df = pd.read_csv(table_path, sep='\\t')\n",
    "    OASIS_analysis_df.set_index(\"diagnosis\", drop=True, inplace=True)\n",
    "    columns = [\"n_subjects\", \"n_scans\",\n",
    "               \"mean_age\", \"std_age\", \"min_age\", \"max_age\",\n",
    "               \"sexF\", \"sexM\",\n",
    "               \"mean_MMSE\", \"std_MMSE\", \"min_MMSE\", \"max_MMSE\",\n",
    "               \"CDR_0\", \"CDR_0.5\", \"CDR_1\", \"CDR_2\", \"CDR_3\"]\n",
    "\n",
    "    # Print formatted table\n",
    "    format_columns = [\"subjects\", \"scans\", \"age\", \"sex\", \"MMSE\", \"CDR\"]\n",
    "    format_df = pd.DataFrame(index=OASIS_analysis_df.index, columns=format_columns)\n",
    "    for idx in OASIS_analysis_df.index.values:    \n",
    "        row_str = \"%i; %i; %.1f ± %.1f [%.1f, %.1f]; %iF / %iM; %.1f ± %.1f [%.1f, %.1f]; 0: %i, 0.5: %i, 1: %i, 2:%i, 3:%i\" % tuple([OASIS_analysis_df.loc[idx, col] for col in columns])\n",
    "        row_list = row_str.split(';')\n",
    "        format_df.loc[idx] = row_list\n",
    "\n",
    "    format_df.index.name = None\n",
    "    display(format_df)"
   ]
  },
  {
   "cell_type": "code",
   "execution_count": null,
   "metadata": {},
   "outputs": [],
   "source": [
    "display_table(\"data/OASIS_analysis.tsv\")"
   ]
  },
  {
   "cell_type": "markdown",
   "metadata": {},
   "source": [
    "There is no significant bias on age anymore, but do you notice any other problems ? \n",
    "\n",
    "<div class=\"alert alert-block alert-warning\">\n",
    "<b>Demographic bias:</b>\n",
    "    <p>There is still a difference in sex distribution and the network could learn a bias on sex such as \"women are cognitively normal\" and \"men are demented\". However there are too few images in OASIS to continue to remove sessions to equilibrate the groups.\n",
    "\n",
    "To check that such bias is not learnt it is possible to run a logistic regression after training between sex and the predicted label to check if they are correlated.</p>\n",
    "</div>"
   ]
  },
  {
   "cell_type": "markdown",
   "metadata": {},
   "source": [
    "# Perform data splits\n",
    "\n",
    "Now that the labels have been extracted and possible biases have been identified, data has to be split in different sets. This step is essential to guarantee the independence of the final evaluation. \n",
    "\n",
    "<div class=\"alert alert-block alert-info\">\n",
    "<b>Definition of sets:</b><p>\n",
    "    In this notebook, data is divided between train, validation and test sets:\n",
    "<ul>\n",
    "    <li> The <b>train set</b> is used to update the weights, </li>\n",
    "    <li> The <b>validation set</b> is used to stop the training process and select the best model, </li>\n",
    "    <li> The <b>test set</b> is used after the end of the training process to perform an unbiased evaluation of the performance. </li>\n",
    "</ul>\n",
    "    <img src=\"./images/split.png\">\n",
    "    <p>Due to the k-fold validation procedure, k trainings are conducted according to the k training/validation pairs generated. This leads to k different models that are evaluated on the test set at the end. The final test performance is then the mean value of these k models.</p>\n",
    "</div>\n",
    "\n",
    "Tools that have been developed for this part are based on the guidelines of [Varoquaux et al, 2017](https://doi.org/10.1016/j.neuroimage.2016.10.038)."
   ]
  },
  {
   "cell_type": "markdown",
   "metadata": {},
   "source": [
    "## Build test set\n",
    "\n",
    "The test set is obtained by performing a split on each diagnosis label independently. Each tsv file is split until there is non-significant differences between age and sex distributions between the test set and the train + validation set. Three tsv files are written per label based on sets:\n",
    "\n",
    "- the baseline sessions of the test set,\n",
    "- the baseline sessions of the train + validation set,\n",
    "- the longitudinal sessions of the train + validation set.\n",
    "\n",
    "In OASIS there is no longitudinal follow-up, hence the two last tsv files are identical.\n",
    "\n",
    "Let's create a test sets including 20 subjects per label:"
   ]
  },
  {
   "cell_type": "code",
   "execution_count": null,
   "metadata": {},
   "outputs": [],
   "source": [
    "!clinicadl tsvtool split data/OASIS_BIDS.tsv data/labels_lists --n_test 20"
   ]
  },
  {
   "cell_type": "markdown",
   "metadata": {},
   "source": [
    "The differences between populations of the train + validation and test sets can be assessed to check that there is no discrepancies between the two sets.\n"
   ]
  },
  {
   "cell_type": "code",
   "execution_count": null,
   "metadata": {},
   "outputs": [],
   "source": [
    "!clinicadl tsvtool analysis data/OASIS_BIDS.tsv data/labels_lists/train data/OASIS_trainval_analysis.tsv"
   ]
  },
  {
   "cell_type": "code",
   "execution_count": null,
   "metadata": {},
   "outputs": [],
   "source": [
    "!clinicadl tsvtool analysis data/OASIS_BIDS.tsv data/labels_lists/test data/OASIS_test_analysis.tsv --baseline"
   ]
  },
  {
   "cell_type": "code",
   "execution_count": null,
   "metadata": {},
   "outputs": [],
   "source": [
    "print(\"Train + validation set\")\n",
    "display_table(\"data/OASIS_trainval_analysis.tsv\")\n",
    "print(\"Test set\")\n",
    "display_table(\"data/OASIS_test_analysis.tsv\")"
   ]
  },
  {
   "cell_type": "markdown",
   "metadata": {},
   "source": [
    "If you are not satisfied with these populations, you can relaunch the test or change the parameters used to evaluate the difference between the distributions: `p_val_threshold` and `t_val_threshold`.\n",
    "\n",
    "<div class=\"alert alert-block alert-info\">\n",
    "<b>Unique test set:</b>\n",
    "    <p>There is only one test set to evaluate the final performance of one model. This is because architecture search was performed on the training + validation sets. As this operation is very costly and/or is done mostly manually, it was not possible to do it several times.</p>\n",
    "</div>"
   ]
  },
  {
   "cell_type": "markdown",
   "metadata": {},
   "source": [
    "## Build validation sets\n",
    "\n",
    "To better estimate the performance of the network, it is trained 5 times using a 5-fold cross-validation procedure. In this procedure, each sample is used once to validate and the other times to train the network.\n",
    "\n",
    "In a similar way than for the test split, three tsv files are written per label **per split** for each set:\n",
    "\n",
    "- the baseline sessions of the validation set,\n",
    "- the baseline sessions of the train set,\n",
    "- the longitudinal sessions of the train set.\n",
    "\n",
    "Contrary to the test split, there is no attempt to control the similarity between the age and sex distributions. Indeed here we consider that averaging across the results of the 5 folds already reduces bias compared to a single data split."
   ]
  },
  {
   "cell_type": "code",
   "execution_count": null,
   "metadata": {},
   "outputs": [],
   "source": [
    "!clinicadl tsvtool kfold data/labels_lists/train --n_splits 5"
   ]
  },
  {
   "cell_type": "code",
   "execution_count": null,
   "metadata": {},
   "outputs": [],
   "source": [
    "ls data/labels_list/train"
   ]
  },
  {
   "cell_type": "markdown",
   "metadata": {},
   "source": [
    "## Check the absence of data leakage\n",
    "\n",
    "In OASIS-1 there is no risk of data leakage due to the data split itself as there is only one session per subject. Also there is no MCI patients, hence there is no risk of data leakage during a transfer learning between a source task involving the MCI set and a target task involving at least one of its subsets (sMCI or pMCI).\n",
    "\n",
    "One script in `clinicadl` has been created to check that there was no data leakage after the split step. More specifically it checks that:\n",
    "\n",
    "1. baseline datasets contain only one scan per subject,\n",
    "2. no intersection between train and test sets,\n",
    "3. the absence of MCI train subjects in test sets of subcategories of MCI.\n",
    "    \n",
    "As it is not a common function, it has not been integrated to the general commandline."
   ]
  },
  {
   "cell_type": "code",
   "execution_count": null,
   "metadata": {},
   "outputs": [],
   "source": [
    "from clinicadl.tools.tsv.test import run_test_suite\n",
    "\n",
    "# Run check for train+val / test split\n",
    "run_test_suite(\"./data/labels_lists\", n_splits=0, subset_name=\"test\")\n",
    "\n",
    "# Run check for train / validation splits\n",
    "run_test_suite(\"./data/labels_lists/train\", n_splits=5, subset_name=\"validation\")"
   ]
  },
  {
   "cell_type": "markdown",
   "metadata": {},
   "source": [
    "If no Error was raised then none of the three conditions was broken. It is now possible to use the train and the validation sets to perform a classification task, and then to evaluate correctly the performance of the classifier on the test set.\n",
    "\n",
    "<div class=\"alert alert-block alert-warning\">\n",
    "<b>Data leakage:</b>\n",
    "    <p>Many procedures can cause data leakage and thus bias the performance, leading to impossible claims. It is crucial to check that the test set has not been contaminated by data that is correlated to the train and/or validation sets. You will find below examples of procedures that can lead to data leakage.</p>\n",
    "    <img src=\"./images/data_leakage.png\">\n",
    "</div>"
   ]
  }
 ],
 "metadata": {
  "kernelspec": {
   "display_name": "Python 3",
   "language": "python",
   "name": "python3"
  },
  "language_info": {
   "codemirror_mode": {
    "name": "ipython",
    "version": 3
   },
   "file_extension": ".py",
   "mimetype": "text/x-python",
   "name": "python",
   "nbconvert_exporter": "python",
   "pygments_lexer": "ipython3",
   "version": "3.6.10"
  }
 },
 "nbformat": 4,
 "nbformat_minor": 4
}
