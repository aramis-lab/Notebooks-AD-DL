{
 "cells": [
  {
   "cell_type": "markdown",
   "metadata": {},
   "source": [
    "# Preprocessing the T1w MRI"
   ]
  },
  {
   "cell_type": "markdown",
   "metadata": {},
   "source": [
    "Original images are preprocessed following the pipeline described in the original [paper](https://www.sciencedirect.com/science/article/abs/pii/S1361841520300591?via%3Dihub). \n",
    "In this document, a \"mininal\" preprocessing procedure is described. This procedure performs the following operations:\n"
   ]
  },
  {
   "cell_type": "markdown",
   "metadata": {},
   "source": [
    "* **Bias field correction** using the N4ITK method [Tustison et al., 2010].\n",
    "\n",
    "* **Affine registration** to the MNI152NLin2009cSym template [Fonov et al., 2011, 2009] in MNI space with the SyN algorithm [Avants et al., 2008].\n",
    "\n",
    "* **Cropping** the registered images in order to remove the background. The final image size is 169×208×179 with 1 mm3 isotropic voxels.\n"
   ]
  },
  {
   "cell_type": "markdown",
   "metadata": {},
   "source": [
    "## Bias Field Correction.\n",
    "MR images can be corrupted by a low frequency and smooth signal caused by magnetic field inhomogeneities. This bias field induces variations in the intensity of the same tissue in different locations of the image, which deteriorates the performance of image analysis algorithms such as registration (Vovk et al., 2007). Several methods exist to correct these intensity inhomogeneities, two popular ones being the nonparametric nonuniformity intensity normalization (N3) algorithm (Sled et al., 1998), available for example in the Freesurfer software package, and the N4 algorithm (Tustison et al., 2010) implemented in ITK.\n",
    "\n",
    "## Affine registration\n",
    "Medical image registration consists of spatially aligning two or more images, either globally (rigid and affine registration) or locally (non-rigid registration), so that voxels in corresponding positions contain comparable information. A large number of software tools have been developed for MRI-based registration, among them the SyN algorithm implemented in [ANTs](http://stnava.github.io/ANTs/). In this preprocessing, all images are aligned to a reference template (MNI152NLin2009cSym). \n",
    "\n",
    "## Cropping \n",
    "One images are aligned some unuseful voxels can be removed. For example, voxels representing the background do not contain preponderant information for the training process. On the contraty, removing the can improve computing efficiency. At the end these images have a size of 169×208×179 with 1 mm3 isotropic voxels."
   ]
  },
  {
   "cell_type": "markdown",
   "metadata": {},
   "source": [
    "These three steps are emmbeded in single pipeline provieded by Clinica. It is called [**T1_linear**](http://www.clinica.run/doc/Pipelines/T1_Linear/), and it is very simple to use:\n",
    "\n",
    "```bash\n",
    "clinica run t1-linear bids_directory caps_directory\n",
    "```\n",
    "\n",
    "The option `--crop_image` assures to perform the \"cropping\" stage. "
   ]
  },
  {
   "cell_type": "code",
   "execution_count": null,
   "metadata": {},
   "outputs": [],
   "source": [
    "!clinica run t1-linear bids_directory caps_directory"
   ]
  },
  {
   "cell_type": "markdown",
   "metadata": {},
   "source": [
    "Once the pipeline has been run, the necessary outputs for the next steps are saved using a specific suffix: \n",
    "    `_space-MNI152NLin2009cSym_desc-Crop_res-1x1x1_T1w.nii.gz`. "
   ]
  },
  {
   "cell_type": "markdown",
   "metadata": {},
   "source": [
    "For example, processed images from our dataset are:"
   ]
  },
  {
   "cell_type": "code",
   "execution_count": null,
   "metadata": {},
   "outputs": [],
   "source": []
  }
 ],
 "metadata": {
  "kernelspec": {
   "display_name": "Python 3",
   "language": "python",
   "name": "python3"
  },
  "language_info": {
   "codemirror_mode": {
    "name": "ipython",
    "version": 3
   },
   "file_extension": ".py",
   "mimetype": "text/x-python",
   "name": "python",
   "nbconvert_exporter": "python",
   "pygments_lexer": "ipython3",
   "version": "3.6.10"
  }
 },
 "nbformat": 4,
 "nbformat_minor": 4
}
